{
  "nbformat": 4,
  "nbformat_minor": 0,
  "metadata": {
    "colab": {
      "provenance": []
    },
    "kernelspec": {
      "name": "python3",
      "display_name": "Python 3"
    },
    "language_info": {
      "name": "python"
    }
  },
  "cells": [
    {
      "cell_type": "code",
      "execution_count": 4,
      "metadata": {
        "id": "14KtXm0WZ00j",
        "colab": {
          "base_uri": "https://localhost:8080/"
        },
        "outputId": "7c706b6e-6f1f-48d6-c7c6-e8d13a9cb987"
      },
      "outputs": [
        {
          "output_type": "stream",
          "name": "stdout",
          "text": [
            "enter first name : srinivas\n",
            "enter last name : bodasu\n",
            "User full name :  srinivas bodasu\n",
            "Alternate String :  siia oau\n"
          ]
        }
      ],
      "source": [
        "#Question 1.\n",
        "\n",
        "def fullname(first_name, last_name):\n",
        "    full_name = first_name + \" \" + last_name\n",
        "    return full_name\n",
        "\n",
        "def string_alternative(input_str):\n",
        "    return input_str[::2]\n",
        "\n",
        "def main():\n",
        "    # Get user input\n",
        "    first_name = input(\"Enter your first name: \")\n",
        "    last_name = input(\"Enter your last name: \")\n",
        "\n",
        "    # Call the fullname function\n",
        "    full_name = fullname(first_name, last_name)\n",
        "\n",
        "    # Call the string_alternative function\n",
        "    result = string_alternative(full_name)\n",
        "\n",
        "    # Display the result\n",
        "    print(\"Full Name:\", full_name)\n",
        "    print(\"Output:\", result)\n",
        "\n",
        "# Call the main function\n",
        "if __name__ == \"__main__\":\n",
        "    main()"
      ]
    },
    {
      "cell_type": "code",
      "source": [
        "# #Question 2.\n",
        "def frequencyOfWords(sentence):\n",
        "    wordStore = {}\n",
        "    words = sentence.split()\n",
        "\n",
        "    for i in words:\n",
        "        wordStore[i] = wordStore.get(i, 0) + 1\n",
        "\n",
        "    # returning the frequency of words stored in wordStore\n",
        "    return wordStore\n",
        "\n",
        "def file_processing(input_file, output_file):\n",
        "    with open(input_file, 'r') as input_file, open(output_file, 'w') as output_file:\n",
        "        # Read all lines from the input file and concatenate them into a single string\n",
        "        sentences = ' '.join(line.strip() for line in input_file)\n",
        "\n",
        "        # for calculating the word count:\n",
        "        wordStore = frequencyOfWords(sentences)\n",
        "\n",
        "        # writing the original sentence in output file:\n",
        "        output_file.write(\"Input sentence is: \" + sentences + \"\\n\" + \"\\n\")\n",
        "        output_file.write(\"Frequency of words:\" + \"\\n\" + \"\\n\")\n",
        "\n",
        "        # writing the word count for each word\n",
        "        for word, count in wordStore.items():\n",
        "            output_file.write(f\"{word}: {count}\" + \"\\n\")\n",
        "\n",
        "        output_file.write(\"\\n\")\n",
        "\n",
        "# starts the file processing for finding the frequency of words\n",
        "file_processing('input.txt', 'output.txt')"
      ],
      "metadata": {
        "id": "QFx-UBDqnPfn"
      },
      "execution_count": 3,
      "outputs": []
    },
    {
      "cell_type": "markdown",
      "source": [],
      "metadata": {
        "id": "k73XUg71p_Kc"
      }
    },
    {
      "cell_type": "code",
      "source": [
        "#Question 3\n",
        "def getHeightUsingLoop(heights_inches):\n",
        "    heights_centimeters = []\n",
        "    for height in heights_inches:\n",
        "        centimeters = height * 2.54\n",
        "        heights_centimeters.append(round(centimeters, 2))\n",
        "    return heights_centimeters\n",
        "\n",
        "def main():\n",
        "    # Input heights in inches from the user.\n",
        "    heights_inches = list(map(float, input(\"Enter the list numbers separated by comma: \").strip().split(\",\")))\n",
        "    print(\"Input List in Inches: \", heights_inches)\n",
        "\n",
        "    # Interactive loop for converting height into centimeters.\n",
        "    heights_cm_nested = getHeightUsingLoop(heights_inches)\n",
        "\n",
        "    # List comprehension for converting height into centimeters.\n",
        "    heights_cm_comprehension= [round(height * 2.54, 2) for height in heights_inches]\n",
        "\n",
        "    # Printing the results.\n",
        "    print(\"Heights using Nested Loop:\", heights_cm_nested)\n",
        "    print(\"Heights using List Comprehension:\", heights_cm_comprehension)\n",
        "\n",
        "if __name__ == \"__main__\":\n",
        "    main()"
      ],
      "metadata": {
        "colab": {
          "base_uri": "https://localhost:8080/"
        },
        "id": "UTUGudtgrCux",
        "outputId": "239ba236-9623-4463-cb67-53113381abbd"
      },
      "execution_count": 1,
      "outputs": [
        {
          "output_type": "stream",
          "name": "stdout",
          "text": [
            "Enter the list numbers separated by comma: 1,2,1\n",
            "Input List in Inches:  [1.0, 2.0, 1.0]\n",
            "Heights using Nested Loop: [2.54, 5.08, 2.54]\n",
            "Heights using List Comprehension: [2.54, 5.08, 2.54]\n"
          ]
        }
      ]
    },
    {
      "cell_type": "code",
      "source": [],
      "metadata": {
        "id": "JVnARSzgrSjT"
      },
      "execution_count": null,
      "outputs": []
    }
  ]
}